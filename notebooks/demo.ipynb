{
 "cells": [
  {
   "cell_type": "code",
   "execution_count": 1,
   "metadata": {},
   "outputs": [],
   "source": [
    "# Add relevant Jupyter notebook extensions "
   ]
  },
  {
   "cell_type": "code",
   "execution_count": 2,
   "metadata": {},
   "outputs": [
    {
     "name": "stdout",
     "output_type": "stream",
     "text": [
      "['C:\\\\Program Files\\\\WindowsApps\\\\PythonSoftwareFoundation.Python.3.12_3.12.2032.0_x64__qbz5n2kfra8p0\\\\python312.zip', 'C:\\\\Program Files\\\\WindowsApps\\\\PythonSoftwareFoundation.Python.3.12_3.12.2032.0_x64__qbz5n2kfra8p0\\\\DLLs', 'C:\\\\Program Files\\\\WindowsApps\\\\PythonSoftwareFoundation.Python.3.12_3.12.2032.0_x64__qbz5n2kfra8p0\\\\Lib', 'C:\\\\Program Files\\\\WindowsApps\\\\PythonSoftwareFoundation.Python.3.12_3.12.2032.0_x64__qbz5n2kfra8p0', 'c:\\\\Users\\\\lgbus\\\\B1\\\\b1-coding-practical-mt24\\\\.venv', '', 'c:\\\\Users\\\\lgbus\\\\B1\\\\b1-coding-practical-mt24\\\\.venv\\\\Lib\\\\site-packages', 'c:\\\\Users\\\\lgbus\\\\B1\\\\b1-coding-practical-mt24\\\\.venv\\\\Lib\\\\site-packages\\\\win32', 'c:\\\\Users\\\\lgbus\\\\B1\\\\b1-coding-practical-mt24\\\\.venv\\\\Lib\\\\site-packages\\\\win32\\\\lib', 'c:\\\\Users\\\\lgbus\\\\B1\\\\b1-coding-practical-mt24\\\\.venv\\\\Lib\\\\site-packages\\\\Pythonwin', 'c:\\\\Users\\\\lgbus\\\\B1\\\\b1-coding-practical-mt24']\n"
     ]
    }
   ],
   "source": [
    "# You can double-check your Python path like this...\n",
    "import sys\n",
    "import os\n",
    "sys.path.append(os.path.abspath('..'))\n",
    "print(sys.path)"
   ]
  },
  {
   "cell_type": "markdown",
   "metadata": {},
   "source": [
    "# Simulate closed-loop\n",
    "After implementing your control functionality, you can simulate the closed-loop with code that looks something like this..."
   ]
  },
  {
   "cell_type": "code",
   "execution_count": 3,
   "metadata": {},
   "outputs": [
    {
     "name": "stdout",
     "output_type": "stream",
     "text": [
      "Optimal parameters for PD controller: kp=0.09999795922218198, ki=0.09999800452430796, kd=0.09999799432002167\n"
     ]
    },
    {
     "ename": "AttributeError",
     "evalue": "'ClosedLoop' object has no attribute 'simulate_with_random_disturbasnces'",
     "output_type": "error",
     "traceback": [
      "\u001b[1;31m---------------------------------------------------------------------------\u001b[0m",
      "\u001b[1;31mAttributeError\u001b[0m                            Traceback (most recent call last)",
      "Cell \u001b[1;32mIn[3], line 10\u001b[0m\n\u001b[0;32m      8\u001b[0m closed_loop \u001b[38;5;241m=\u001b[39m ClosedLoop(sub, controller)\n\u001b[0;32m      9\u001b[0m mission \u001b[38;5;241m=\u001b[39m Mission\u001b[38;5;241m.\u001b[39mfrom_csv(\u001b[38;5;124m\"\u001b[39m\u001b[38;5;124m../data/mission.csv\u001b[39m\u001b[38;5;124m\"\u001b[39m)\n\u001b[1;32m---> 10\u001b[0m trajectory \u001b[38;5;241m=\u001b[39m \u001b[43mclosed_loop\u001b[49m\u001b[38;5;241;43m.\u001b[39;49m\u001b[43msimulate_with_random_disturbasnces\u001b[49m(mission)\n\u001b[0;32m     11\u001b[0m trajectory\u001b[38;5;241m.\u001b[39mplot_completed_mission(mission)\n",
      "\u001b[1;31mAttributeError\u001b[0m: 'ClosedLoop' object has no attribute 'simulate_with_random_disturbasnces'"
     ]
    }
   ],
   "source": [
    "# Import relevant modules\n",
    "from uuv_mission.dynamic import Submarine, ClosedLoop, Mission\n",
    "from uuv_mission.controller import PDController, PIDController\n",
    "from uuv_mission.optimise_controller import optimize_controller\n",
    "sub = Submarine()\n",
    "params = optimize_controller(\"PD\",\"../data/mission.csv\")\n",
    "controller = PDController(kp=0.1, kd=0.1)\n",
    "closed_loop = ClosedLoop(sub, controller)\n",
    "mission = Mission.from_csv(\"../data/mission.csv\")\n",
    "trajectory = closed_loop.simulate_with_random_disturbances(mission)\n",
    "trajectory.plot_completed_mission(mission)"
   ]
  }
 ],
 "metadata": {
  "kernelspec": {
   "display_name": ".venv",
   "language": "python",
   "name": "python3"
  },
  "language_info": {
   "codemirror_mode": {
    "name": "ipython",
    "version": 3
   },
   "file_extension": ".py",
   "mimetype": "text/x-python",
   "name": "python",
   "nbconvert_exporter": "python",
   "pygments_lexer": "ipython3",
   "version": "3.12.7"
  }
 },
 "nbformat": 4,
 "nbformat_minor": 2
}
